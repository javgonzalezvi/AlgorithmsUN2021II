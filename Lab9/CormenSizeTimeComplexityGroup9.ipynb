{
  "nbformat": 4,
  "nbformat_minor": 0,
  "metadata": {
    "colab": {
      "name": "CormenSizeTimeComplexityGroup9.ipynb",
      "provenance": [],
      "collapsed_sections": [],
      "include_colab_link": true
    },
    "kernelspec": {
      "name": "python3",
      "display_name": "Python 3"
    },
    "language_info": {
      "name": "python"
    }
  },
  "cells": [
    {
      "cell_type": "markdown",
      "metadata": {
        "id": "view-in-github",
        "colab_type": "text"
      },
      "source": [
        "<a href=\"https://colab.research.google.com/github/javgonzalezvi/AlgorithmsUN2022I/blob/master/Lab9/CormenSizeTimeComplexityGroup9.ipynb\" target=\"_parent\"><img src=\"https://colab.research.google.com/assets/colab-badge.svg\" alt=\"Open In Colab\"/></a>"
      ]
    },
    {
      "cell_type": "markdown",
      "metadata": {
        "id": "I5UAAxG2_CqQ"
      },
      "source": [
        "# 0.(1 microsecond by instruction)\n",
        "Asuuming that you can execute a million instructions $10^6$ every second, i.e. each instruction takes one microsecond $1\\mu s=10^{-6}$ seconds. If you have algorithms take $\\bf{ Time\\ Complexity}$ steps to solve a problem of size $n$ as specified in column one. What is the size of the largest problem that you can solve in the time specified in row one?\n",
        "\n",
        "$$\n",
        "\\begin{array}{|c|c|c|c|c|c|c|c|} \n",
        " \\hline\n",
        " \\bf{ Time\\ Complexity} & Second  & Minute  & Hour & Day & Year & Century & Mileniun  \\\\ \n",
        "  \\hline\\\\ \n",
        "\\lg(n) &   2^{10^{6}}  & 2^{60 \\times 10^{6}}  & 2^{3600 \\times 10^{6}} & 2^{86400 \\times 10^{6}}  & 2^{3.1536 \\times 10^{13}} & 2^{3153600000 \\times 10^{6}} & 2^{31536000000 \\times 10^{6}} \\\\ \n",
        "   \\hline\\\\ \n",
        "\\lg^2(n) & 2^{10^{3}} & 2^{\\sqrt{60} \\times{10^{3}}} & 2^{60 \\times{10^{3}}} & 2^{\\sqrt{86400} \\times{10^{3}}}  & 2^{\\sqrt{31536000} \\times{10^{3}}}  & 2^{\\sqrt{3153600000} \\times{10^{3}}} & 2^{\\sqrt{31536000000} \\times{10^{3}}}  \\\\ \n",
        "   \\hline\\\\ \n",
        "\\sqrt{n} & 10^{12}   & {3.6 \\times 10^{15}}  & {12.96×10^{18}} & {7.46496×10^{21}} &  {9.94519296×10^{26}} & {9.94519296×10^{30}} &  {9.94519296×10^{32}}\\\\ \n",
        " \\hline\n",
        " n & 10^{6}   & 60\\times10^{6}   & 3600\\times10^{6}  & 86400\\times10^{6}  & 31536000\\times10^{6} & 3153600000\\times10^{6}  & 31536000000\\times10^{6}  \\\\ \n",
        " \\hline\n",
        " n\\lg(n) & 62746   & 2801417   & 133378058  & 2755147513 & 797633893349 & 68610956750570 & 56665093434063120 \\\\ \n",
        " \\hline\n",
        " n^2 & 1000  & \\sqrt{60} \\times{10^{3}}  & 60 \\times{10^{3}} & \\sqrt{86400} \\times{10^{3}} & \\sqrt{31536000} \\times{10^{3}} & \\sqrt{3153600000} \\times{10^{3}} & \\sqrt{31536000000} \\times{10^{3}} \\\\ \n",
        " \\hline\n",
        "  n^3 &  100  & 100\\sqrt[3]{60}  & \\sqrt[3]{3600000000}  & \\sqrt[3]{86400000000}  & 100\\sqrt[3]{31536000}  & 100\\sqrt[3]{3153600000} & 100\\sqrt[3]{31536000000} \\\\ \n",
        " \\hline\n",
        "  n^4 & \\sqrt[4]{1000000} & \\sqrt[4]{60000000} & 100\\sqrt{6} & \\sqrt[4]{86400000000} & \\sqrt[4]{3.1536} \\times{10^{3}} &\\sqrt[4]{3.1536×10^{15}} & \\sqrt[4]{3.1536} \\times{10^{4}}\\\\ \n",
        " \\hline\n",
        "  2^n &  6lg(10) & lg(60 \\times 10^{6})   & lg(3600 \\times 10^{6})  & lg(86400 \\times 10^{6})  & lg(31.536 \\times 10^{12})  & lg(3.1536 \\times 10^{15})  & lg(3.1536 \\times 10^{16}) \\\\ \n",
        " \\hline\n",
        " n! &  9  & 11  & 12 & 13 & 16 & 17 & 20 \\\\ \n",
        " \\hline\n",
        " n^n & 7   & 8  & 9 & 10 & 12 & 13 & 15 \\\\ \n",
        " \\hline\n",
        "\\end{array}\n",
        "$$"
      ]
    },
    {
      "cell_type": "code",
      "source": [
        "# n*log_n(n) ..... 10**6\n",
        "\n",
        "import math\n",
        "def f(n):\n",
        "  return n*math.log2(n)\n",
        "\n",
        "def find(f,v):\n",
        "  l = 1\n",
        "  r = v\n",
        "  while True:\n",
        "    m = int((l+r)/2)\n",
        "    if ((f(m+1) > v) and (f(m) <= v) ) or (l == m) or  (r == m):\n",
        "      return int(m)   \n",
        "    elif f(m) < v:\n",
        "      l = m\n",
        "    else: \n",
        "      r = m\n",
        "\n",
        "print(\"Second \", find(f,10**6),\" = \", \"{:.8E}\".format(find(f,10**6)))\n",
        "print(\"Minute  \",find(f,60*10**6),\" = \", \"{:.8E}\".format(find(f,60*10**6 )))\n",
        "print(\"Hour \",find(f,60*60*10**6),\" = \", \"{:.8E}\".format(find(f,60*60*10**6 )))\n",
        "print(\"Day \",find(f,24*60*60*10**6 ),\" = \", \"{:.8E}\".format(find(f,24*60*60*10**6 )) )\n",
        "print(\"Year \",find(f,365*24*60*60*10**6 ),\" = \", \"{:.8E}\".format(find(f,365*24*60*60*10**6 )) )\n",
        "print(\"Century \",find(f,100*365*24*60*60*10**6 ),\" = \", \"{:.8E}\".format(find(f,100*365*24*60*60*10**6 )) )\n",
        "print(\"Mileniun \",find(f,1000*100*365*24*60*60*10**6 ),\" = \", \"{:.8E}\".format(find(f,1000*100*365*24*60*60*10**6 )) )"
      ],
      "metadata": {
        "colab": {
          "base_uri": "https://localhost:8080/"
        },
        "id": "Xu8UCYRXUmhW",
        "outputId": "b3636a44-c6bb-4ef2-8e7c-6288f288d87e"
      },
      "execution_count": 1,
      "outputs": [
        {
          "output_type": "stream",
          "name": "stdout",
          "text": [
            "Second  62746  =  6.27460000E+04\n",
            "Minute   2801417  =  2.80141700E+06\n",
            "Hour  133378058  =  1.33378058E+08\n",
            "Day  2755147513  =  2.75514751E+09\n",
            "Year  797633893349  =  7.97633893E+11\n",
            "Century  68610956750570  =  6.86109568E+13\n",
            "Mileniun  56665093434063120  =  5.66650934E+16\n"
          ]
        }
      ]
    },
    {
      "cell_type": "code",
      "source": [
        "# n! .... 10**6\n",
        "\n",
        "import math\n",
        "def f(n):\n",
        "  return math.factorial(n)\n",
        "\n",
        "def find(f,v):\n",
        "  l = 1\n",
        "  r = 100\n",
        "  while True:\n",
        "    m = int((l+r)/2)\n",
        "    if ((f(m+1) > v) and (f(m) <= v) ) or (l == m) or (r== m):\n",
        "      return int(m)\n",
        "    elif f(m) < v:\n",
        "      l = m\n",
        "    else: \n",
        "      r = m\n",
        "\n",
        "\n",
        "print(\"Second \", find(f,10**6 ))\n",
        "print(\"Minute  \",find(f,60*10**6 ))\n",
        "print(\"Hour \",find(f,60*60*10**6 ))\n",
        "print(\"Day \",find(f,24*60*60*10**6 ))\n",
        "print(\"Year \",find(f,365*24*60*60*10**6 ))\n",
        "print(\"Century \",find(f,100*365*24*60*60*10**6 ))\n",
        "print(\"Mileniun \",find(f,1000*100*365*24*60*60*10**6 ))"
      ],
      "metadata": {
        "colab": {
          "base_uri": "https://localhost:8080/"
        },
        "id": "NTkbSkRwgONO",
        "outputId": "465ea046-5a5a-4c63-aad6-3d152da28515"
      },
      "execution_count": 2,
      "outputs": [
        {
          "output_type": "stream",
          "name": "stdout",
          "text": [
            "Second  9\n",
            "Minute   11\n",
            "Hour  12\n",
            "Day  13\n",
            "Year  16\n",
            "Century  17\n",
            "Mileniun  20\n"
          ]
        }
      ]
    },
    {
      "cell_type": "code",
      "source": [
        "# n**n ..... 10**6\n",
        "\n",
        "import math\n",
        "def f(n):\n",
        "  return n**n\n",
        "\n",
        "def find(f,v):\n",
        "  l = 1\n",
        "  r = 100\n",
        "  while True:\n",
        "    m = int((l+r)/2)\n",
        "    if ((f(m+1) > v) and (f(m) <= v) ) or (l == m) or (r== m):\n",
        "      return int(m)\n",
        "    elif f(m) < v:\n",
        "      l = m\n",
        "    else: \n",
        "      r = m\n",
        "\n",
        "print(\"Second \", find(f,10**6 ))\n",
        "print(\"Minute  \",find(f,60*10**6 ))\n",
        "print(\"Hour \",find(f,60*60*10**6 ))\n",
        "print(\"Day \",find(f,24*60*60*10**6 ))\n",
        "print(\"Year \",find(f,365*24*60*60*10**6 ))\n",
        "print(\"Century \",find(f,100*365*24*60*60*10**6 ))\n",
        "print(\"Mileniun \",find(f,1000*100*365*24*60*60*10**6 ))"
      ],
      "metadata": {
        "colab": {
          "base_uri": "https://localhost:8080/"
        },
        "id": "zDigD0slgki_",
        "outputId": "2d469d9e-ffb7-41be-c9ab-07f66ec2e72c"
      },
      "execution_count": 3,
      "outputs": [
        {
          "output_type": "stream",
          "name": "stdout",
          "text": [
            "Second  7\n",
            "Minute   8\n",
            "Hour  9\n",
            "Day  10\n",
            "Year  12\n",
            "Century  13\n",
            "Mileniun  15\n"
          ]
        }
      ]
    },
    {
      "cell_type": "markdown",
      "metadata": {
        "id": "yCCsCOW2OQbQ"
      },
      "source": [
        "# 1.(10  nanoseconds by instruction)\n",
        "\n",
        "Asuuming that you can execute a 100 million instructions $100 \\times 10^6$ every second, i.e. each instrcution takes 10 nanoseconds, 10 $\\eta s  = 10^{-8} s $. If you have algorithms take $\\bf{ Time\\ Complexity}$ steps to solve a poblem of size $n$ as specified in column one. What is the size of the largest porblem that you can solve in the time specified in row one?\n",
        "\n",
        "$$\n",
        "\\begin{array}{|c|c|c|c|c|c|c|c|} \n",
        " \\hline\n",
        " \\bf{ Time\\ Complexity} & Second  & Minute  & Hour & Day & Year & Century & Mileniun  \\\\ \n",
        "  \\hline\\\\ \n",
        "\\lg(n) &   2^{10^{8}}  & 2^{60 \\times 10^{8}}  & 2^{3600 \\times 10^{8}} & 2^{86400 \\times 10^{8}}  & 2^{31536000 \\times 10^{8}} & 2^{3153600000 \\times 10^{8}} & 2^{31536000000 \\times 10^{8}} \\\\ \n",
        "   \\hline\\\\ \n",
        "\\lg^2(n) & 2^{10^{4}}   & 2^{10^{4} \\times \\sqrt{60}}  & 2^{10^{4} \\times 60} & 2^{10^{4} \\times \\sqrt{86400}}  & 2^{10^{4} \\times \\sqrt{31536000}}  &2^{10^{4} \\times \\sqrt{3153600000}}  & 2^{10^{4} \\times \\sqrt{31536000000}}  \\\\ \n",
        "   \\hline\\\\ \n",
        "\\sqrt{n} & 10^{16}   & {3600 \\times 10^{16}}  & {12960000 \\times 10^{16}} & {7464960000 \\times 10^{16}} &  {9.94519296\\times 10^{14} \\times 10^{16}} & {9.94519296\\times 10^{18} \\times 10^{16}} &  {9.94519296\\times 10^{20} \\times 10^{16}}\\\\ \n",
        " \\hline\n",
        " n & 10^{8}   & 60\\times10^{8}   & 3600\\times10^{8}  & 86400\\times10^{8}  & 31536000\\times10^{8} & 3153600000\\times10^{8}  & 31536000000\\times10^{8}  \\\\ \n",
        " \\hline\n",
        " n\\lg(n) & 4523071  & 216677120   & 10800938300  & 228957337705 & 68610956750570 & 6016277763015247 & 5075142713362522112 \\\\ \n",
        " \\hline\n",
        " n^2 & 10000   & 77459  & 600000 & 2939387 & 561569223 & 5615692230 & 1775837830 \\\\ \n",
        " \\hline\n",
        "  n^3 &  100\\sqrt[3]{10^2}  & 391\\sqrt[3]{10^2}  & 1532\\sqrt[3]{10^2}  & 4420\\sqrt[3]{10^2}  & 31593\\sqrt[3]{10^2}  & 146645\\sqrt[3]{10^2} & 315938\\sqrt[3]{10^2} \\\\ \n",
        " \\hline\n",
        "  n^4 & 100    & 278  & 774 & 1714 & 7493 & 23697 &  42140\\\\ \n",
        " \\hline\n",
        "  2^n &  8lg_2(10) & lg_2(60 \\times 10^{8})   & lg_2(3600 \\times 10^{8})  & lg_2(86400 \\times 10^{8})  & lg_2(31536000 \\times 10^{8})  & lg_2(3153600000 \\times 10^{8})  & lg_2(31536000000 \\times 10^{8}) \\\\ \n",
        " \\hline\n",
        " n! &  11  & 12  & 14 & 15 & 17 & 19 & 21 \\\\ \n",
        " \\hline\n",
        " n^n & 8   & 9 & 11 & 11 & 13 & 14 & 16 \\\\ \n",
        " \\hline\n",
        "\\end{array}\n",
        "$$"
      ]
    },
    {
      "cell_type": "code",
      "source": [
        "# n*log_2(n) ...... 10**8\n",
        "\n",
        "import math\n",
        "def f(n):\n",
        "  return n*math.log2(n)\n",
        "\n",
        "def find(f,v):\n",
        "  l = 1\n",
        "  r = v\n",
        "  while True:\n",
        "    m = int((l+r)/2)\n",
        "    if ((f(m+1) > v) and (f(m) <= v) ) or (l == m) or  (r == m):\n",
        "      return int(m)   \n",
        "    elif f(m) < v:\n",
        "      l = m\n",
        "    else: \n",
        "      r = m\n",
        "\n",
        "print(\"Second \", find(f,10**8),\" = \", \"{:.8E}\".format(find(f,10**8)))\n",
        "print(\"Minute  \",find(f,60*10**8),\" = \", \"{:.8E}\".format(find(f,60*10**8 )))\n",
        "print(\"Hour \",find(f,60*60*10**8),\" = \", \"{:.8E}\".format(find(f,60*60*10**8 )))\n",
        "print(\"Day \",find(f,24*60*60*10**8 ),\" = \", \"{:.8E}\".format(find(f,24*60*60*10**8)) )\n",
        "print(\"Year \",find(f,365*24*60*60*10**8 ),\" = \", \"{:.8E}\".format(find(f,365*24*60*60*10**8)) )\n",
        "print(\"Century \",find(f,100*365*24*60*60*10**8 ),\" = \", \"{:.8E}\".format(find(f,100*365*24*60*60*10**8 )) )\n",
        "print(\"Mileniun \",find(f,1000*100*365*24*60*60*10**8),\" = \", \"{:.8E}\".format(find(f,1000*100*365*24*60*60*10**8 )) )"
      ],
      "metadata": {
        "colab": {
          "base_uri": "https://localhost:8080/"
        },
        "id": "z_RvH_00hDM2",
        "outputId": "fb1c51b5-9b8d-4348-dfca-ea5343b8e99f"
      },
      "execution_count": 7,
      "outputs": [
        {
          "output_type": "stream",
          "name": "stdout",
          "text": [
            "Second  4523071  =  4.52307100E+06\n",
            "Minute   216677120  =  2.16677120E+08\n",
            "Hour  10800938300  =  1.08009383E+10\n",
            "Day  228957337705  =  2.28957338E+11\n",
            "Year  68610956750570  =  6.86109568E+13\n",
            "Century  6016277763015247  =  6.01627776E+15\n",
            "Mileniun  5075142713362522112  =  5.07514271E+18\n"
          ]
        }
      ]
    },
    {
      "cell_type": "code",
      "source": [
        "# n! .... 10**8\n",
        "\n",
        "import math\n",
        "def f(n):\n",
        "  return math.factorial(n)\n",
        "\n",
        "def find(f,v):\n",
        "  l = 1\n",
        "  r = 100\n",
        "  while True:\n",
        "    m = int((l+r)/2)\n",
        "    if ((f(m+1) > v) and (f(m) <= v) ) or (l == m) or (r== m):\n",
        "      return int(m)\n",
        "    elif f(m) < v:\n",
        "      l = m\n",
        "    else: \n",
        "      r = m\n",
        "\n",
        "\n",
        "print(\"Second \", find(f,10**8 ))\n",
        "print(\"Minute  \",find(f,60*10**8 ))\n",
        "print(\"Hour \",find(f,60*60*10**8 ))\n",
        "print(\"Day \",find(f,24*60*60*10**8 ))\n",
        "print(\"Year \",find(f,365*24*60*60*10**8 ))\n",
        "print(\"Century \",find(f,100*365*24*60*60*10**8 ))\n",
        "print(\"Mileniun \",find(f,1000*100*365*24*60*60*10**8 ))"
      ],
      "metadata": {
        "colab": {
          "base_uri": "https://localhost:8080/"
        },
        "id": "SQ2vzyj2join",
        "outputId": "7fa012d5-e063-4681-c98b-461e7842f5b2"
      },
      "execution_count": 8,
      "outputs": [
        {
          "output_type": "stream",
          "name": "stdout",
          "text": [
            "Second  11\n",
            "Minute   12\n",
            "Hour  14\n",
            "Day  15\n",
            "Year  17\n",
            "Century  19\n",
            "Mileniun  21\n"
          ]
        }
      ]
    },
    {
      "cell_type": "code",
      "source": [
        "# n**n ..... 10**8\n",
        "\n",
        "import math\n",
        "def f(n):\n",
        "  return n**n\n",
        "\n",
        "def find(f,v):\n",
        "  l = 1\n",
        "  r = 100\n",
        "  while True:\n",
        "    m = int((l+r)/2)\n",
        "    if ((f(m+1) > v) and (f(m) <= v) ) or (l == m) or (r== m):\n",
        "      return int(m)\n",
        "    elif f(m) < v:\n",
        "      l = m\n",
        "    else: \n",
        "      r = m\n",
        "\n",
        "print(\"Second \", find(f,10**8 ))\n",
        "print(\"Minute  \",find(f,60*10**8 ))\n",
        "print(\"Hour \",find(f,60*60*10**8 ))\n",
        "print(\"Day \",find(f,24*60*60*10**8 ))\n",
        "print(\"Year \",find(f,365*24*60*60*10**8 ))\n",
        "print(\"Century \",find(f,100*365*24*60*60*10**8 ))\n",
        "print(\"Mileniun \",find(f,1000*100*365*24*60*60*10**8 ))"
      ],
      "metadata": {
        "colab": {
          "base_uri": "https://localhost:8080/"
        },
        "id": "7dCYGnwRkiLl",
        "outputId": "393d682f-aa16-463a-faec-d3b4ec8bf490"
      },
      "execution_count": 14,
      "outputs": [
        {
          "output_type": "stream",
          "name": "stdout",
          "text": [
            "Second  8\n",
            "Minute   9\n",
            "Hour  11\n",
            "Day  11\n",
            "Year  13\n",
            "Century  14\n",
            "Mileniun  16\n"
          ]
        }
      ]
    },
    {
      "cell_type": "markdown",
      "metadata": {
        "id": "9fIs_70_DJWM"
      },
      "source": [
        "# 2.(2.5  nanoseconds by instruction)\n",
        "\n",
        "Asuuming that you can execute a 400 million instructions $400 \\times 10^6$ every second, i.e. each instrcution takes 2.5  nanoseconds, 2.5 $\\eta s  = 2.5 \\times 10^{-9} s$. If you have algorithms take $\\bf{ Time\\ Complexity}$ steps to solve a problem of size $n$ as specified in column one. What is the size of the largest problem that you can solve in the time specified in row one?\n",
        "$$\n",
        "\\begin{array}{|c|c|c|c|c|c|c|c|} \n",
        " \\hline\n",
        " \\bf{ Time\\ Complexity} & Second  & Minute  & Hour & Day & Year & Century & Mileniun  \\\\ \n",
        "  \\hline\\\\ \n",
        "\\lg(n) & 2^{\\frac{10^9}{2.5}} & 2^{\\frac{60^9}{2.5}} & 2^{\\frac{3.6^{12}}{2.5}} & 2^{\\frac{86.4×10^{12}}{2.5}}  & 2^{\\frac{31.536×10^{15}}{2.5}}  & 2^{\\frac{3.1536×10^{18}}{2.5}} & 2^{\\frac{3.1536×10^{19}}{2.5}} \\\\ \n",
        "   \\hline\\\\ \n",
        "\\lg^2(n) &  2^{20000}  &  2^{\\sqrt{\\frac{60*10^9}{2.5}}}  & 2^{1200000} & 2^{\\sqrt{\\frac{8.64*10^{13}}{2.5}}}  & 2^{\\sqrt{\\frac{3.1536*10^{16}}{2.5}}}  & 2^{\\sqrt{\\frac{3.1536*10^{18}}{2.5}}} & 2^{\\sqrt{\\frac{3.1536*10^{19}}{2.5}}} \\\\ \n",
        "   \\hline\\\\ \n",
        "\\sqrt{n} &  \\frac{10^{18}}{6.25}  & \\frac{3.6×10^{21}}{6.25} & \\frac{1.296×10^{25}}{6.25}  & \\frac{7.46496×10^{27}}{6.25} & \\frac{9.94519296×10^{32}}{6.25} & \\frac{9.94519296×10^{36}}{6.25} & \\frac{9.94519296×10^{38}}{6.25} \\\\ \n",
        " \\hline\n",
        " n &  4×10^8  & 2.4×10^{10}  & 1.44×10^{12} & 3.456×10^{13}  & 1.26144×10^{16} & 1.26144×10^{18} & 1.26144×10^{19} \\\\ \n",
        " \\hline\n",
        " n\\lg(n) & 94368799 & 4669880193 & 238139246923 & 5116273177934 & 1562043197517483 & 138456171937759968 & 118235943866898644992 \\\\ \n",
        " \\hline\n",
        " n^2 &  20000  & \\sqrt{\\frac{6×10^{10}}{2.5}}  & 1.2×10^6 & \\sqrt{\\frac{8.64×10^{13}}{2.5}} & \\sqrt{\\frac{3.1536×10^{16}}{2.5}}  & \\sqrt{\\frac{3.1536×10^{18}}{2.5}} & \\sqrt{\\frac{3.1536×10^{19}}{2.5}} \\\\ \n",
        " \\hline\n",
        "  n^3 &  \\sqrt[3]{\\frac{10^9}{2.5}}  & \\sqrt[3]{\\frac{60*10^9}{2.5}}   & \\sqrt[3]{\\frac{3.6×10^{12}}{2.5}} & \\sqrt[3]{\\frac{8.64×10^{13}}{2.5}} & \\sqrt[3]{\\frac{3.1536×10^{16}}{2.5}} & \\sqrt[3]{\\frac{3.1536×10^{18}}{2.5}} &  \\sqrt[3]{\\frac{3.1536×10^{19}}{2.5}} \\\\ \n",
        " \\hline\n",
        "  n^4 &  \\sqrt[4]{\\frac{10^9}{2.5}}  &  \\sqrt[4]{\\frac{60*10^9}{2.5}} & \\sqrt[4]{\\frac{3.6×10^{12}}{2.5}}  & \\sqrt[4]{\\frac{8.64×10^{13}}{2.5}} & \\sqrt[4]{\\frac{3.1536×10^{16}}{2.5}} & \\sqrt[4]{\\frac{3.1536×10^{18}}{2.5}} & \\sqrt[4]{\\frac{3.1536×10^{19}}{2.5}} \\\\ \n",
        " \\hline\n",
        "  2^n & \\lg\\left(\\frac{10^9}{2.5}\\right)  & \\lg\\left(\\frac{6×10^{10}}{2.5}\\right)  & \\lg\\left(\\frac{3.6×10^{12}}{2.5}\\right) & \\lg\\left(\\frac{8.64×10^{13}}{2.5}\\right) & \\lg\\left(\\frac{3.1536×10^{16}}{2.5}\\right)  & \\lg\\left(\\frac{3.1536×10^{18}}{2.5}\\right)  & \\lg\\left(\\frac{3.1536×10^{19}}{2.5}\\right)  \\\\ \n",
        " \\hline\n",
        " n! &  12  & 14  & 15 & 16 & 18 & 20 & 22 \\\\ \n",
        " \\hline\n",
        " n^n &  9  & 10  & 12 & 12 & 14 & 15 & 17 \\\\ \n",
        " \\hline\n",
        "\\end{array}\n",
        "$$"
      ]
    },
    {
      "cell_type": "code",
      "source": [
        "# n*log_2(n) .... 2.5 * 10**9\n",
        "\n",
        "import math\n",
        "def f(n):\n",
        "  return n*math.log2(n)\n",
        "\n",
        "def find(f,v):\n",
        "  l = 1\n",
        "  r = v\n",
        "  while True:\n",
        "    m = int((l+r)/2)\n",
        "    if ((f(m+1) > v) and (f(m) <= v) ) or (l == m) or  (r == m):\n",
        "      return int(m)   \n",
        "    elif f(m) < v:\n",
        "      l = m\n",
        "    else: \n",
        "      r = m\n",
        "\n",
        "print(\"Second \", find(f,2.5*10**9),\" = \", \"{:.8E}\".format(find(f,2.5*10**9)))\n",
        "print(\"Minute  \",find(f,60*2.5*10**9),\" = \", \"{:.8E}\".format(find(f,60*2.5*10**9)))\n",
        "print(\"Hour \",find(f,60*60*2.5*10**9),\" = \", \"{:.8E}\".format(find(f,60*60*2.5*10**9)))\n",
        "print(\"Day \",find(f,24*60*60*2.5*10**9 ),\" = \", \"{:.8E}\".format(find(f,24*60*60*2.5*10**9)) )\n",
        "print(\"Year \",find(f,365*24*60*60*2.5*10**9 ),\" = \", \"{:.8E}\".format(find(f,365*24*60*60*2.5*10**9 )) )\n",
        "print(\"Century \",find(f,100*365*24*60*60*2.5*10**9 ),\" = \", \"{:.8E}\".format(find(f,100*365*24*60*60*2.5*10**9 )) )\n",
        "print(\"Mileniun \",find(f,1000*100*365*24*60*60*2.5*10**9 ),\" = \", \"{:.8E}\".format(find(f,1000*100*365*24*60*60*2.5*10**9 )) )"
      ],
      "metadata": {
        "colab": {
          "base_uri": "https://localhost:8080/"
        },
        "id": "5mi4wBAihD92",
        "outputId": "63242af9-e4ea-4385-e8d0-0b0d29775c45"
      },
      "execution_count": 5,
      "outputs": [
        {
          "output_type": "stream",
          "name": "stdout",
          "text": [
            "Second  94368799  =  9.43687990E+07\n",
            "Minute   4669880193  =  4.66988019E+09\n",
            "Hour  238139246923  =  2.38139247E+11\n",
            "Day  5116273177934  =  5.11627318E+12\n",
            "Year  1562043197517483  =  1.56204320E+15\n",
            "Century  138456171937759968  =  1.38456172E+17\n",
            "Mileniun  118235943866898644992  =  1.18235944E+20\n"
          ]
        }
      ]
    },
    {
      "cell_type": "code",
      "source": [
        "# n! ....  2.5*10**9\n",
        "\n",
        "import math\n",
        "def f(n):\n",
        "  return math.factorial(n)\n",
        "\n",
        "def find(f,v):\n",
        "  l = 1\n",
        "  r = 100\n",
        "  while True:\n",
        "    m = int((l+r)/2)\n",
        "    if ((f(m+1) > v) and (f(m) <= v) ) or (l == m) or (r== m):\n",
        "      return int(m)\n",
        "    elif f(m) < v:\n",
        "      l = m\n",
        "    else: \n",
        "      r = m\n",
        "\n",
        "\n",
        "print(\"Second \", find(f,2.5*10**9 ))\n",
        "print(\"Minute  \",find(f,60*2.5*10**9 ))\n",
        "print(\"Hour \",find(f,60*60*2.5*10**9 ))\n",
        "print(\"Day \",find(f,24*60*60*2.5*10**9 ))\n",
        "print(\"Year \",find(f,365*24*60*60*2.5*10**9 ))\n",
        "print(\"Century \",find(f,100*365*24*60*60*2.5*10**9))\n",
        "print(\"Mileniun \",find(f,1000*100*365*24*60*60*2.5*10**9 ))"
      ],
      "metadata": {
        "colab": {
          "base_uri": "https://localhost:8080/"
        },
        "id": "mdN1jaeVj1SC",
        "outputId": "df679eb3-a36d-499a-c687-57c294df6ea5"
      },
      "execution_count": 9,
      "outputs": [
        {
          "output_type": "stream",
          "name": "stdout",
          "text": [
            "Second  12\n",
            "Minute   14\n",
            "Hour  15\n",
            "Day  16\n",
            "Year  18\n",
            "Century  20\n",
            "Mileniun  22\n"
          ]
        }
      ]
    },
    {
      "cell_type": "code",
      "source": [
        "# n**n ..... 2.5 * 10**9\n",
        "\n",
        "import math\n",
        "def f(n):\n",
        "  return n**n\n",
        "\n",
        "def find(f,v):\n",
        "  l = 1\n",
        "  r = 100\n",
        "  while True:\n",
        "    m = int((l+r)/2)\n",
        "    if ((f(m+1) > v) and (f(m) <= v) ) or (l == m) or (r== m):\n",
        "      return int(m)\n",
        "    elif f(m) < v:\n",
        "      l = m\n",
        "    else: \n",
        "      r = m\n",
        "\n",
        "print(\"Second \", find(f,2.5*10**9 ))\n",
        "print(\"Minute  \",find(f,60*2.5*10**9 ))\n",
        "print(\"Hour \",find(f,60*60*2.5*10**9 ))\n",
        "print(\"Day \",find(f,24*60*60*2.5*10**9 ))\n",
        "print(\"Year \",find(f,365*24*60*60*2.5*10**9 ))\n",
        "print(\"Century \",find(f,100*365*24*60*60*2.5*10**9 ))\n",
        "print(\"Mileniun \",find(f,1000*100*365*24*60*60*2.5*10**9 ))"
      ],
      "metadata": {
        "colab": {
          "base_uri": "https://localhost:8080/"
        },
        "id": "kAxxWMqSlmtY",
        "outputId": "9348b3b9-bc0b-46c0-d5c7-65c67d94d5c5"
      },
      "execution_count": 13,
      "outputs": [
        {
          "output_type": "stream",
          "name": "stdout",
          "text": [
            "Second  9\n",
            "Minute   10\n",
            "Hour  12\n",
            "Day  12\n",
            "Year  14\n",
            "Century  15\n",
            "Mileniun  17\n"
          ]
        }
      ]
    },
    {
      "cell_type": "markdown",
      "metadata": {
        "id": "kwpTH36ZIyQJ"
      },
      "source": [
        "# 3. (1 noneosecond by instruction)\n",
        "\n",
        "Asuuming that you can execute a 1000 million instructions $10^9$ every second, i.e. each instrcution takes 1  nanosecond, 1 $\\eta s  = 10^{-9} s$. If you have algorithms take $\\bf{ Time\\ Complexity}$ steps to solve a problem of size $n$ as specified in column one. What is the size of the largest problem that you can solve in the time specified in row one?\n",
        "$$\n",
        "\\begin{array}{|c|c|c|c|c|c|c|c|} \n",
        " \\hline\n",
        " \\bf{ Time\\ Complexity} & Second  & Minute  & Hour & Day & Year & Century & Mileniun  \\\\ \n",
        "  \\hline\\\\ \n",
        "\\lg(n) &  2^{10^9}  &  2^{60\\times10^9}  & 2^{3.6\\times10^{12}} & 2^{86.4×10^{12}} & 2^{3.1536×10^{16}} & 2^{3.1536×10^{18}} & 2^{3.1536×10^{19}} \\\\ \n",
        "   \\hline\\\\ \n",
        "\\lg^2(n) & 2^{\\sqrt{10^9}} &  2^{\\sqrt{{60\\times10^9}}}  &  2^{\\sqrt{{3.6\\times10^{12}}}} & 2^{\\sqrt{{86.4×10^{12}}}} & 2^{\\sqrt{{3.1536×10^{16}}}} & 2^{\\sqrt{{3.1536×10^{18}}}} & 2^{\\sqrt{{3.1536×10^{19}}}} \\\\ \n",
        "   \\hline\\\\ \n",
        "\\sqrt{n} & 10^{18} & 3.6×10^{21}  & 1.296×10^{25} & 7.46496×10^{27} & 9.94519296×10^{32} & 9.94519296×10^{36} & 9.94519296×10^{38} \\\\ \n",
        " \\hline\n",
        " n &  10^9  & 60\\times10^9  & 3.6\\times10^{12} & 86.4×10^{12} & 3.1536×10^{16} & 3.1536×10^{18} & 3.1536×10^{19} \\\\ \n",
        " \\hline\n",
        " n\\lg(n) & 39620077 & 1944470450 & 98574774544 & 2110372739876 & 641136862352841 & 56665093434063120  & 48230089612197773312 \\\\ \n",
        " \\hline\n",
        " n^2 &  \\sqrt{10^9}  & \\sqrt{60\\times10^9}  & \\sqrt{3.6\\times10^{12}} & \\sqrt{86.4×10^{12}}  & \\sqrt{3.1536×10^{16}}  & \\sqrt{3.1536×10^{18}} & \\sqrt{3.1536×10^{19}} \\\\ \n",
        " \\hline\n",
        "  n^3 &  \\sqrt[3]{10^9}  &   \\sqrt[3]{60\\times10^9} & \\sqrt[3]{3.6\\times10^{12}} & \\sqrt[3]{86.4×10^{12}} &  \\sqrt[3]{3.1536×10^{16}} & \\sqrt[3]{3.1536×10^{18}} & \\sqrt[3]{3.1536×10^{19}} \\\\ \n",
        " \\hline\n",
        "  n^4 &   \\sqrt[4]{10^9}  &   \\sqrt[4]{60\\times10^9} & \\sqrt[4]{3.6\\times10^{12}} & \\sqrt[4]{86.4×10^{12}} &  \\sqrt[4]{3.1536×10^{16}} & \\sqrt[4]{3.1536×10^{18}} & \\sqrt[4]{3.1536×10^{19}}  \\\\ \n",
        " \\hline\n",
        "  2^n & \\lg\\left({10^9}\\right)  & \\lg\\left({60\\times10^9}\\right)  & \\lg\\left({3.6\\times10^{12}}\\right) & \\lg\\left({86.4×10^{12}}\\right) &\\lg\\left({3.1536×10^{16}}\\right) & \\lg\\left({3.1536×10^{18}}\\right)  &  \\lg\\left({3.1536×10^{19}}\\right) \\\\ \n",
        " \\hline\n",
        " n! &  12  & 13  & 15 & 16 & 18 & 20 & 22 \\\\ \n",
        " \\hline\n",
        " n^n &  9  &  10 & 11 & 12 & 14 & 15 & 17 \\\\ \n",
        " \\hline\n",
        "\\end{array}\n",
        "$$"
      ]
    },
    {
      "cell_type": "code",
      "source": [
        "# n*log_2(n) ..... 10**9\n",
        "\n",
        "import math\n",
        "def f(n):\n",
        "  return n*math.log2(n)\n",
        "\n",
        "def find(f,v):\n",
        "  l = 1\n",
        "  r = v\n",
        "  while True:\n",
        "    m = int((l+r)/2)\n",
        "    if ((f(m+1) > v) and (f(m) <= v) ) or (l == m) or  (r == m):\n",
        "      return int(m)   \n",
        "    elif f(m) < v:\n",
        "      l = m\n",
        "    else: \n",
        "      r = m\n",
        "\n",
        "print(\"Second \", find(f,10**9),\" = \", \"{:.8E}\".format(find(f,10**9)))\n",
        "print(\"Minute  \",find(f,60*10**9),\" = \", \"{:.8E}\".format(find(f,60*10**9 )))\n",
        "print(\"Hour \",find(f,60*60*10**9),\" = \", \"{:.8E}\".format(find(f,60*60*10**9 )))\n",
        "print(\"Day \",find(f,24*60*60*10**9 ),\" = \", \"{:.8E}\".format(find(f,24*60*60*10**9 )) )\n",
        "print(\"Year \",find(f,365*24*60*60*10**9 ),\" = \", \"{:.8E}\".format(find(f,365*24*60*60*10**9 )) )\n",
        "print(\"Century \",find(f,100*365*24*60*60*10**9 ),\" = \", \"{:.8E}\".format(find(f,100*365*24*60*60*10**9 )) )\n",
        "print(\"Mileniun \",find(f,1000*100*365*24*60*60*10**9),\" = \", \"{:.8E}\".format(find(f,1000*100*365*24*60*60*10**9)) )"
      ],
      "metadata": {
        "colab": {
          "base_uri": "https://localhost:8080/"
        },
        "id": "gYveVMiyhE0U",
        "outputId": "83a113bf-9543-4f99-e825-f67f583b78a6"
      },
      "execution_count": 4,
      "outputs": [
        {
          "output_type": "stream",
          "name": "stdout",
          "text": [
            "Second  39620077  =  3.96200770E+07\n",
            "Minute   1944470450  =  1.94447045E+09\n",
            "Hour  98574774544  =  9.85747745E+10\n",
            "Day  2110372739876  =  2.11037274E+12\n",
            "Year  641136862352841  =  6.41136862E+14\n",
            "Century  56665093434063120  =  5.66650934E+16\n",
            "Mileniun  48230089612197773312  =  4.82300896E+19\n"
          ]
        }
      ]
    },
    {
      "cell_type": "code",
      "source": [
        "# n! .... 10**9\n",
        "\n",
        "import math\n",
        "def f(n):\n",
        "  return math.factorial(n)\n",
        "\n",
        "def find(f,v):\n",
        "  l = 1\n",
        "  r = 100\n",
        "  while True:\n",
        "    m = int((l+r)/2)\n",
        "    if ((f(m+1) > v) and (f(m) <= v) ) or (l == m) or (r== m):\n",
        "      return int(m)\n",
        "    elif f(m) < v:\n",
        "      l = m\n",
        "    else: \n",
        "      r = m\n",
        "\n",
        "\n",
        "print(\"Second \", find(f,10**9 ))\n",
        "print(\"Minute  \",find(f,60*10**9 ))\n",
        "print(\"Hour \",find(f,60*60*10**9 ))\n",
        "print(\"Day \",find(f,24*60*60*10**9 ))\n",
        "print(\"Year \",find(f,365*24*60*60*10**9 ))\n",
        "print(\"Century \",find(f,100*365*24*60*60*10**9 ))\n",
        "print(\"Mileniun \",find(f,1000*100*365*24*60*60*10**9 ))"
      ],
      "metadata": {
        "colab": {
          "base_uri": "https://localhost:8080/"
        },
        "id": "njv7tb_1kI4w",
        "outputId": "dd55d95b-3dc7-4921-94d6-e8c9ebc860cb"
      },
      "execution_count": 10,
      "outputs": [
        {
          "output_type": "stream",
          "name": "stdout",
          "text": [
            "Second  12\n",
            "Minute   13\n",
            "Hour  15\n",
            "Day  16\n",
            "Year  18\n",
            "Century  20\n",
            "Mileniun  22\n"
          ]
        }
      ]
    },
    {
      "cell_type": "code",
      "source": [
        "# n**n ..... 10**9\n",
        "\n",
        "import math\n",
        "def f(n):\n",
        "  return n**n\n",
        "\n",
        "def find(f,v):\n",
        "  l = 1\n",
        "  r = 100\n",
        "  while True:\n",
        "    m = int((l+r)/2)\n",
        "    if ((f(m+1) > v) and (f(m) <= v) ) or (l == m) or (r== m):\n",
        "      return int(m)\n",
        "    elif f(m) < v:\n",
        "      l = m\n",
        "    else: \n",
        "      r = m\n",
        "\n",
        "print(\"Second \", find(f,10**9 ))\n",
        "print(\"Minute  \",find(f,60*10**9 ))\n",
        "print(\"Hour \",find(f,60*60*10**9 ))\n",
        "print(\"Day \",find(f,24*60*60*10**9 ))\n",
        "print(\"Year \",find(f,365*24*60*60*10**9 ))\n",
        "print(\"Century \",find(f,100*365*24*60*60*10**9 ))\n",
        "print(\"Mileniun \",find(f,1000*100*365*24*60*60*10**9 ))"
      ],
      "metadata": {
        "colab": {
          "base_uri": "https://localhost:8080/"
        },
        "id": "RT9d_Rvdlqsw",
        "outputId": "4143f8a6-571f-486d-c878-25816ea46158"
      },
      "execution_count": 12,
      "outputs": [
        {
          "output_type": "stream",
          "name": "stdout",
          "text": [
            "Second  9\n",
            "Minute   10\n",
            "Hour  11\n",
            "Day  12\n",
            "Year  14\n",
            "Century  15\n",
            "Mileniun  17\n"
          ]
        }
      ]
    }
  ]
}